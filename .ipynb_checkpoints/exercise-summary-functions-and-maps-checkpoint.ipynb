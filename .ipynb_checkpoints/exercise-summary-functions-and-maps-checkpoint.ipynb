{
 "cells": [
  {
   "cell_type": "markdown",
   "metadata": {},
   "source": [
    "# Introduction\n",
    "\n",
    "Now you are ready to get a deeper understanding of your data.\n",
    "\n",
    "Run the following cell to load your data and some utility functions (including code to check your answers)."
   ]
  },
  {
   "cell_type": "code",
   "execution_count": null,
   "metadata": {
    "execution": {
     "iopub.execute_input": "2021-09-07T16:31:53.925049Z",
     "iopub.status.busy": "2021-09-07T16:31:53.924615Z",
     "iopub.status.idle": "2021-09-07T16:32:00.13467Z",
     "shell.execute_reply": "2021-09-07T16:32:00.133813Z",
     "shell.execute_reply.started": "2021-09-07T16:31:53.924956Z"
    }
   },
   "outputs": [],
   "source": [
    "import pandas as pd\n",
    "pd.set_option(\"display.max_rows\", 5)\n",
    "reviews = pd.read_csv(\"../input/wine-reviews/winemag-data-130k-v2.csv\", index_col=0)\n",
    "\n",
    "from learntools.core import binder; binder.bind(globals())\n",
    "from learntools.pandas.summary_functions_and_maps import *\n",
    "print(\"Setup complete.\")\n",
    "\n",
    "reviews.head()"
   ]
  },
  {
   "cell_type": "markdown",
   "metadata": {},
   "source": [
    "# Exercises"
   ]
  },
  {
   "cell_type": "markdown",
   "metadata": {},
   "source": [
    "## 1.\n",
    "\n",
    "What is the median of the `points` column in the `reviews` DataFrame?"
   ]
  },
  {
   "cell_type": "code",
   "execution_count": null,
   "metadata": {
    "execution": {
     "iopub.execute_input": "2021-09-07T16:33:25.59743Z",
     "iopub.status.busy": "2021-09-07T16:33:25.596883Z",
     "iopub.status.idle": "2021-09-07T16:33:25.606673Z",
     "shell.execute_reply": "2021-09-07T16:33:25.605552Z",
     "shell.execute_reply.started": "2021-09-07T16:33:25.597393Z"
    }
   },
   "outputs": [],
   "source": [
    "median_points = reviews['points'].median()\n",
    "\n",
    "# Check your answer\n",
    "q1.check()"
   ]
  },
  {
   "cell_type": "markdown",
   "metadata": {},
   "source": [
    "## 2. \n",
    "What countries are represented in the dataset? (Your answer should not include any duplicates.)"
   ]
  },
  {
   "cell_type": "code",
   "execution_count": null,
   "metadata": {
    "execution": {
     "iopub.execute_input": "2021-09-07T16:34:18.515636Z",
     "iopub.status.busy": "2021-09-07T16:34:18.515294Z",
     "iopub.status.idle": "2021-09-07T16:34:18.529412Z",
     "shell.execute_reply": "2021-09-07T16:34:18.528688Z",
     "shell.execute_reply.started": "2021-09-07T16:34:18.515608Z"
    }
   },
   "outputs": [],
   "source": [
    "countries = reviews.country.unique()\n",
    "\n",
    "# Check your answer\n",
    "q2.check()"
   ]
  },
  {
   "cell_type": "markdown",
   "metadata": {},
   "source": [
    "## 3.\n",
    "How often does each country appear in the dataset? Create a Series `reviews_per_country` mapping countries to the count of reviews of wines from that country."
   ]
  },
  {
   "cell_type": "code",
   "execution_count": null,
   "metadata": {
    "execution": {
     "iopub.execute_input": "2021-09-07T16:34:46.484848Z",
     "iopub.status.busy": "2021-09-07T16:34:46.484456Z",
     "iopub.status.idle": "2021-09-07T16:34:46.506962Z",
     "shell.execute_reply": "2021-09-07T16:34:46.50588Z",
     "shell.execute_reply.started": "2021-09-07T16:34:46.484812Z"
    }
   },
   "outputs": [],
   "source": [
    "reviews_per_country = reviews.country.value_counts()\n",
    "\n",
    "# Check your answer\n",
    "q3.check()"
   ]
  },
  {
   "cell_type": "markdown",
   "metadata": {},
   "source": [
    "## 4.\n",
    "Create variable `centered_price` containing a version of the `price` column with the mean price subtracted.\n",
    "\n",
    "(Note: this 'centering' transformation is a common preprocessing step before applying various machine learning algorithms.) "
   ]
  },
  {
   "cell_type": "code",
   "execution_count": null,
   "metadata": {
    "execution": {
     "iopub.execute_input": "2021-09-07T16:35:10.457596Z",
     "iopub.status.busy": "2021-09-07T16:35:10.457023Z",
     "iopub.status.idle": "2021-09-07T16:35:10.467117Z",
     "shell.execute_reply": "2021-09-07T16:35:10.46604Z",
     "shell.execute_reply.started": "2021-09-07T16:35:10.457546Z"
    }
   },
   "outputs": [],
   "source": [
    "centered_price = reviews.price - reviews.price.mean()\n",
    "\n",
    "# Check your answer\n",
    "q4.check()"
   ]
  },
  {
   "cell_type": "markdown",
   "metadata": {},
   "source": [
    "## 5.\n",
    "I'm an economical wine buyer. Which wine is the \"best bargain\"? Create a variable `bargain_wine` with the title of the wine with the highest points-to-price ratio in the dataset."
   ]
  },
  {
   "cell_type": "code",
   "execution_count": null,
   "metadata": {
    "execution": {
     "iopub.execute_input": "2021-09-07T16:35:35.516081Z",
     "iopub.status.busy": "2021-09-07T16:35:35.515425Z",
     "iopub.status.idle": "2021-09-07T16:35:35.533733Z",
     "shell.execute_reply": "2021-09-07T16:35:35.532136Z",
     "shell.execute_reply.started": "2021-09-07T16:35:35.516023Z"
    }
   },
   "outputs": [],
   "source": [
    "\n",
    "bargain_idx = (reviews.points / reviews.price).idxmax()\n",
    "bargain_wine = reviews.loc[bargain_idx, 'title']\n",
    "\n",
    "# Check your answer\n",
    "q5.check()"
   ]
  },
  {
   "cell_type": "markdown",
   "metadata": {},
   "source": [
    "## 6.\n",
    "There are only so many words you can use when describing a bottle of wine. Is a wine more likely to be \"tropical\" or \"fruity\"? Create a Series `descriptor_counts` counting how many times each of these two words appears in the `description` column in the dataset."
   ]
  },
  {
   "cell_type": "code",
   "execution_count": null,
   "metadata": {
    "execution": {
     "iopub.execute_input": "2021-09-07T16:35:58.961305Z",
     "iopub.status.busy": "2021-09-07T16:35:58.960772Z",
     "iopub.status.idle": "2021-09-07T16:35:59.095089Z",
     "shell.execute_reply": "2021-09-07T16:35:59.09428Z",
     "shell.execute_reply.started": "2021-09-07T16:35:58.961268Z"
    }
   },
   "outputs": [],
   "source": [
    "n_trop = reviews.description.map(lambda desc: \"tropical\" in desc).sum()\n",
    "n_fruity = reviews.description.map(lambda desc: \"fruity\" in desc).sum()\n",
    "descriptor_counts = pd.Series([n_trop, n_fruity], index=['tropical', 'fruity'])\n",
    "# Check your answer\n",
    "q6.check()"
   ]
  },
  {
   "cell_type": "markdown",
   "metadata": {},
   "source": [
    "## 7.\n",
    "We'd like to host these wine reviews on our website, but a rating system ranging from 80 to 100 points is too hard to understand - we'd like to translate them into simple star ratings. A score of 95 or higher counts as 3 stars, a score of at least 85 but less than 95 is 2 stars. Any other score is 1 star.\n",
    "\n",
    "Also, the Canadian Vintners Association bought a lot of ads on the site, so any wines from Canada should automatically get 3 stars, regardless of points.\n",
    "\n",
    "Create a series `star_ratings` with the number of stars corresponding to each review in the dataset."
   ]
  },
  {
   "cell_type": "code",
   "execution_count": null,
   "metadata": {
    "execution": {
     "iopub.execute_input": "2021-09-07T16:36:22.985534Z",
     "iopub.status.busy": "2021-09-07T16:36:22.985084Z",
     "iopub.status.idle": "2021-09-07T16:36:26.236807Z",
     "shell.execute_reply": "2021-09-07T16:36:26.235788Z",
     "shell.execute_reply.started": "2021-09-07T16:36:22.985497Z"
    }
   },
   "outputs": [],
   "source": [
    "def stars(row):\n",
    "    if row.country == 'Canada':\n",
    "        return 3\n",
    "    elif row.points >= 95:\n",
    "        return 3\n",
    "    elif row.points >= 85:\n",
    "        return 2\n",
    "    else:\n",
    "        return 1\n",
    "\n",
    "star_ratings = reviews.apply(stars, axis='columns')\n",
    "# Check your answer\n",
    "q7.check()"
   ]
  }
 ],
 "metadata": {
  "kernelspec": {
   "display_name": "Python 3",
   "language": "python",
   "name": "python3"
  },
  "language_info": {
   "codemirror_mode": {
    "name": "ipython",
    "version": 3
   },
   "file_extension": ".py",
   "mimetype": "text/x-python",
   "name": "python",
   "nbconvert_exporter": "python",
   "pygments_lexer": "ipython3",
   "version": "3.8.8"
  }
 },
 "nbformat": 4,
 "nbformat_minor": 4
}
